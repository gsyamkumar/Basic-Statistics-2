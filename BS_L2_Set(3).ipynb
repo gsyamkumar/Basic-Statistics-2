{
 "cells": [
  {
   "cell_type": "markdown",
   "id": "0125fce2",
   "metadata": {},
   "source": [
    "# Q8"
   ]
  },
  {
   "cell_type": "code",
   "execution_count": 2,
   "id": "838f6062",
   "metadata": {
    "ExecuteTime": {
     "end_time": "2023-03-28T14:20:42.801883Z",
     "start_time": "2023-03-28T14:20:41.882859Z"
    }
   },
   "outputs": [
    {
     "data": {
      "text/plain": [
       "1.959963984540054"
      ]
     },
     "execution_count": 2,
     "metadata": {},
     "output_type": "execute_result"
    }
   ],
   "source": [
    "#calculation of z score for 95% confidence interval\n",
    "from scipy import stats\n",
    "stats.norm.ppf(0.975)"
   ]
  },
  {
   "cell_type": "code",
   "execution_count": 5,
   "id": "9b3abf1c",
   "metadata": {
    "ExecuteTime": {
     "end_time": "2023-03-28T14:22:57.701570Z",
     "start_time": "2023-03-28T14:22:57.687028Z"
    }
   },
   "outputs": [
    {
     "data": {
      "text/plain": [
       "600.2279407334571"
      ]
     },
     "execution_count": 5,
     "metadata": {},
     "output_type": "execute_result"
    }
   ],
   "source": [
    "#Sample size calculation from a infinite poupulation(confidence interval =95%;Margin of error=4%;Population proportion =50%)\n",
    "# formula S= Z^2 × P ×  (1−P)/M2\n",
    "((stats.norm.ppf(0.975))**2)*(0.5)*((1-0.5)/(0.04)**2)"
   ]
  },
  {
   "cell_type": "markdown",
   "id": "0a73e941",
   "metadata": {},
   "source": [
    "# Q9"
   ]
  },
  {
   "cell_type": "code",
   "execution_count": 4,
   "id": "d54206a3",
   "metadata": {
    "ExecuteTime": {
     "end_time": "2023-03-28T14:22:34.483383Z",
     "start_time": "2023-03-28T14:22:34.469419Z"
    }
   },
   "outputs": [
    {
     "data": {
      "text/plain": [
       "2.3263478740408408"
      ]
     },
     "execution_count": 4,
     "metadata": {},
     "output_type": "execute_result"
    }
   ],
   "source": [
    "#caluclaation of z score for 98% confidence interval\n",
    "stats.norm.ppf(0.99)"
   ]
  },
  {
   "cell_type": "code",
   "execution_count": 6,
   "id": "a203e39b",
   "metadata": {
    "ExecuteTime": {
     "end_time": "2023-03-28T14:23:04.814661Z",
     "start_time": "2023-03-28T14:23:04.795714Z"
    }
   },
   "outputs": [
    {
     "data": {
      "text/plain": [
       "845.6085048522405"
      ]
     },
     "execution_count": 6,
     "metadata": {},
     "output_type": "execute_result"
    }
   ],
   "source": [
    "#Sample size calculation from a infinite poupulation(confidence interval =98%;Margin of error=4%;Population proportion =50%)\n",
    "# formula S= Z^2 × P ×  (1−P)/M2\n",
    "((stats.norm.ppf(0.99))**2)*(0.5)*((1-0.5)/(0.04)**2)"
   ]
  },
  {
   "cell_type": "code",
   "execution_count": null,
   "id": "17c2fa30",
   "metadata": {},
   "outputs": [],
   "source": []
  }
 ],
 "metadata": {
  "kernelspec": {
   "display_name": "Python 3",
   "language": "python",
   "name": "python3"
  },
  "language_info": {
   "codemirror_mode": {
    "name": "ipython",
    "version": 3
   },
   "file_extension": ".py",
   "mimetype": "text/x-python",
   "name": "python",
   "nbconvert_exporter": "python",
   "pygments_lexer": "ipython3",
   "version": "3.8.8"
  }
 },
 "nbformat": 4,
 "nbformat_minor": 5
}
