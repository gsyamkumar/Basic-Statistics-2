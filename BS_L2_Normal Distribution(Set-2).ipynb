{
 "cells": [
  {
   "cell_type": "markdown",
   "id": "f32e5d8c",
   "metadata": {},
   "source": [
    "# Q1"
   ]
  },
  {
   "cell_type": "code",
   "execution_count": 2,
   "id": "38ba478d",
   "metadata": {
    "ExecuteTime": {
     "end_time": "2023-03-28T06:58:47.196324Z",
     "start_time": "2023-03-28T06:58:45.969440Z"
    }
   },
   "outputs": [
    {
     "data": {
      "text/plain": [
       "0.26598552904870054"
      ]
     },
     "execution_count": 2,
     "metadata": {},
     "output_type": "execute_result"
    }
   ],
   "source": [
    "#here The probility of servicing time to be more than 50 minutes\n",
    "from scipy import stats \n",
    "1-stats.norm.cdf(50,45,8)"
   ]
  },
  {
   "cell_type": "markdown",
   "id": "7e824130",
   "metadata": {},
   "source": [
    "# Q2(A)"
   ]
  },
  {
   "cell_type": "code",
   "execution_count": 3,
   "id": "14afd44e",
   "metadata": {
    "ExecuteTime": {
     "end_time": "2023-03-28T07:22:17.254317Z",
     "start_time": "2023-03-28T07:22:17.235363Z"
    }
   },
   "outputs": [
    {
     "data": {
      "text/plain": [
       "0.15865525393145707"
      ]
     },
     "execution_count": 3,
     "metadata": {},
     "output_type": "execute_result"
    }
   ],
   "source": [
    "#more employees are older than 44\n",
    "#u = 38, std = 6\n",
    "#P(x>44)\n",
    "1-stats.norm.cdf(44,38,6)"
   ]
  },
  {
   "cell_type": "code",
   "execution_count": 7,
   "id": "5ee5b8b1",
   "metadata": {
    "ExecuteTime": {
     "end_time": "2023-03-28T07:27:07.349021Z",
     "start_time": "2023-03-28T07:27:07.328045Z"
    }
   },
   "outputs": [
    {
     "data": {
      "text/plain": [
       "0.3413447460685429"
      ]
     },
     "execution_count": 7,
     "metadata": {},
     "output_type": "execute_result"
    }
   ],
   "source": [
    "#P(38<x<44)\n",
    "stats.norm.cdf(44,38,6)-stats.norm.cdf(38,38,6)"
   ]
  },
  {
   "cell_type": "code",
   "execution_count": 8,
   "id": "99fdf844",
   "metadata": {
    "ExecuteTime": {
     "end_time": "2023-03-28T07:31:16.941824Z",
     "start_time": "2023-03-28T07:31:16.927861Z"
    }
   },
   "outputs": [
    {
     "data": {
      "text/plain": [
       "336.0378984274172"
      ]
     },
     "execution_count": 8,
     "metadata": {},
     "output_type": "execute_result"
    }
   ],
   "source": [
    "400*stats.norm.cdf(44,38,6)-stats.norm.cdf(38,38,6)"
   ]
  },
  {
   "cell_type": "markdown",
   "id": "e6f140ad",
   "metadata": {},
   "source": [
    "# Q2(B)"
   ]
  },
  {
   "cell_type": "code",
   "execution_count": 9,
   "id": "680037e4",
   "metadata": {
    "ExecuteTime": {
     "end_time": "2023-03-28T07:36:49.255304Z",
     "start_time": "2023-03-28T07:36:49.240343Z"
    }
   },
   "outputs": [
    {
     "data": {
      "text/plain": [
       "0.09121121972586788"
      ]
     },
     "execution_count": 9,
     "metadata": {},
     "output_type": "execute_result"
    }
   ],
   "source": [
    "#under the 30 expected to attract about 36 employees\n",
    "#P(x<30)\n",
    "stats.norm.cdf(30,38,6)"
   ]
  },
  {
   "cell_type": "code",
   "execution_count": 10,
   "id": "f8c9d8ee",
   "metadata": {
    "ExecuteTime": {
     "end_time": "2023-03-28T07:37:46.806261Z",
     "start_time": "2023-03-28T07:37:46.780326Z"
    }
   },
   "outputs": [
    {
     "data": {
      "text/plain": [
       "36.484487890347154"
      ]
     },
     "execution_count": 10,
     "metadata": {},
     "output_type": "execute_result"
    }
   ],
   "source": [
    "#No of employees below the age 30.  n=400\n",
    "400*stats.norm.cdf(30,38,6)"
   ]
  },
  {
   "cell_type": "markdown",
   "id": "7f9f0a8e",
   "metadata": {},
   "source": [
    "# Q4"
   ]
  },
  {
   "cell_type": "code",
   "execution_count": 11,
   "id": "4ca4e510",
   "metadata": {
    "ExecuteTime": {
     "end_time": "2023-03-28T10:44:44.256283Z",
     "start_time": "2023-03-28T10:44:44.238598Z"
    }
   },
   "outputs": [
    {
     "data": {
      "text/plain": [
       "(48.48341392902199, 151.516586070978)"
      ]
     },
     "execution_count": 11,
     "metadata": {},
     "output_type": "execute_result"
    }
   ],
   "source": [
    "#To know Confidence Interval(CIE):-\n",
    "stats.norm.interval(0.99,100,20)"
   ]
  },
  {
   "cell_type": "markdown",
   "id": "73b825b3",
   "metadata": {},
   "source": [
    "# Q5"
   ]
  },
  {
   "cell_type": "code",
   "execution_count": 19,
   "id": "093cbc3f",
   "metadata": {
    "ExecuteTime": {
     "end_time": "2023-03-28T12:40:42.096895Z",
     "start_time": "2023-03-28T12:40:42.081566Z"
    }
   },
   "outputs": [],
   "source": [
    "import numpy as np"
   ]
  },
  {
   "cell_type": "code",
   "execution_count": 12,
   "id": "e54ccc50",
   "metadata": {
    "ExecuteTime": {
     "end_time": "2023-03-28T12:35:18.071541Z",
     "start_time": "2023-03-28T12:35:18.053464Z"
    }
   },
   "outputs": [],
   "source": [
    "#calculating the mean profit of two divisions companies\n",
    "mean = 5 + 7"
   ]
  },
  {
   "cell_type": "code",
   "execution_count": 13,
   "id": "cdf534cf",
   "metadata": {
    "ExecuteTime": {
     "end_time": "2023-03-28T12:35:24.215693Z",
     "start_time": "2023-03-28T12:35:24.205074Z"
    }
   },
   "outputs": [
    {
     "data": {
      "text/plain": [
       "12"
      ]
     },
     "execution_count": 13,
     "metadata": {},
     "output_type": "execute_result"
    }
   ],
   "source": [
    "mean"
   ]
  },
  {
   "cell_type": "code",
   "execution_count": 14,
   "id": "e16f3b6f",
   "metadata": {
    "ExecuteTime": {
     "end_time": "2023-03-28T12:35:58.648060Z",
     "start_time": "2023-03-28T12:35:58.632571Z"
    }
   },
   "outputs": [
    {
     "data": {
      "text/plain": [
       "540"
      ]
     },
     "execution_count": 14,
     "metadata": {},
     "output_type": "execute_result"
    }
   ],
   "source": [
    "mean*45"
   ]
  },
  {
   "cell_type": "code",
   "execution_count": 22,
   "id": "79bebf6b",
   "metadata": {
    "ExecuteTime": {
     "end_time": "2023-03-28T12:41:19.285788Z",
     "start_time": "2023-03-28T12:41:19.272872Z"
    }
   },
   "outputs": [
    {
     "data": {
      "text/plain": [
       "5.0"
      ]
     },
     "execution_count": 22,
     "metadata": {},
     "output_type": "execute_result"
    }
   ],
   "source": [
    "#calculating the variance of two companies between 3^2 and 4^2\n",
    "var=np.sqrt((9)+(16))\n",
    "var"
   ]
  },
  {
   "cell_type": "code",
   "execution_count": 23,
   "id": "e611b50a",
   "metadata": {
    "ExecuteTime": {
     "end_time": "2023-03-28T12:41:23.027507Z",
     "start_time": "2023-03-28T12:41:23.012275Z"
    }
   },
   "outputs": [
    {
     "data": {
      "text/plain": [
       "225.0"
      ]
     },
     "execution_count": 23,
     "metadata": {},
     "output_type": "execute_result"
    }
   ],
   "source": [
    "var*45"
   ]
  },
  {
   "cell_type": "markdown",
   "id": "4b18be17",
   "metadata": {},
   "source": [
    "# Q5(a)"
   ]
  },
  {
   "cell_type": "code",
   "execution_count": 25,
   "id": "43e7d915",
   "metadata": {
    "ExecuteTime": {
     "end_time": "2023-03-28T12:44:53.622066Z",
     "start_time": "2023-03-28T12:44:53.603107Z"
    }
   },
   "outputs": [
    {
     "data": {
      "text/plain": [
       "(99.00810347848784, 980.9918965215122)"
      ]
     },
     "execution_count": 25,
     "metadata": {},
     "output_type": "execute_result"
    }
   ],
   "source": [
    "# Range with 95% probability for the annual profit of the company\n",
    "stats.norm.interval(0.95,540,225)"
   ]
  },
  {
   "cell_type": "markdown",
   "id": "69c149be",
   "metadata": {},
   "source": [
    "# Q5(b)"
   ]
  },
  {
   "cell_type": "code",
   "execution_count": 26,
   "id": "c16c75b3",
   "metadata": {
    "ExecuteTime": {
     "end_time": "2023-03-28T12:49:26.598662Z",
     "start_time": "2023-03-28T12:49:26.588230Z"
    }
   },
   "outputs": [
    {
     "data": {
      "text/plain": [
       "170.0"
      ]
     },
     "execution_count": 26,
     "metadata": {},
     "output_type": "execute_result"
    }
   ],
   "source": [
    "# Calculation for the 5th percentile of profit for company\n",
    "np.round(stats.norm.ppf(0.05,540,225))"
   ]
  },
  {
   "cell_type": "markdown",
   "id": "a298e5e3",
   "metadata": {},
   "source": [
    "# Q5(c)"
   ]
  },
  {
   "cell_type": "code",
   "execution_count": 27,
   "id": "bc2723ab",
   "metadata": {
    "ExecuteTime": {
     "end_time": "2023-03-28T12:54:27.398670Z",
     "start_time": "2023-03-28T12:54:27.384375Z"
    }
   },
   "outputs": [
    {
     "data": {
      "text/plain": [
       "0.0477903522728147"
      ]
     },
     "execution_count": 27,
     "metadata": {},
     "output_type": "execute_result"
    }
   ],
   "source": [
    "# Calculation for two divisions for checking the probability of making a loss in a given year\n",
    "stats.norm.cdf(0,5,3)"
   ]
  },
  {
   "cell_type": "code",
   "execution_count": 28,
   "id": "09ee5f7a",
   "metadata": {
    "ExecuteTime": {
     "end_time": "2023-03-28T12:55:19.849766Z",
     "start_time": "2023-03-28T12:55:19.837007Z"
    }
   },
   "outputs": [
    {
     "data": {
      "text/plain": [
       "0.040059156863817086"
      ]
     },
     "execution_count": 28,
     "metadata": {},
     "output_type": "execute_result"
    }
   ],
   "source": [
    "stats.norm.cdf(0,7,4)"
   ]
  },
  {
   "cell_type": "code",
   "execution_count": null,
   "id": "0efba820",
   "metadata": {},
   "outputs": [],
   "source": []
  }
 ],
 "metadata": {
  "kernelspec": {
   "display_name": "Python 3",
   "language": "python",
   "name": "python3"
  },
  "language_info": {
   "codemirror_mode": {
    "name": "ipython",
    "version": 3
   },
   "file_extension": ".py",
   "mimetype": "text/x-python",
   "name": "python",
   "nbconvert_exporter": "python",
   "pygments_lexer": "ipython3",
   "version": "3.8.8"
  }
 },
 "nbformat": 4,
 "nbformat_minor": 5
}
