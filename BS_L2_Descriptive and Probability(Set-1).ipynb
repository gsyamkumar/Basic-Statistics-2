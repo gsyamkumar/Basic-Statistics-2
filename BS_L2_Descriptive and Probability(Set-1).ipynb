{
 "cells": [
  {
   "cell_type": "markdown",
   "id": "781adcf7",
   "metadata": {},
   "source": [
    "# Q1\n"
   ]
  },
  {
   "cell_type": "code",
   "execution_count": 1,
   "id": "28ba6273",
   "metadata": {
    "ExecuteTime": {
     "end_time": "2023-03-24T11:15:24.415243Z",
     "start_time": "2023-03-24T11:15:20.481891Z"
    }
   },
   "outputs": [],
   "source": [
    "#here importing Libraries\n",
    "import pandas as pd\n",
    "import numpy as np\n",
    "import matplotlib.pyplot as plt\n",
    "import seaborn as sns"
   ]
  },
  {
   "cell_type": "code",
   "execution_count": 26,
   "id": "7cdab5f1",
   "metadata": {
    "ExecuteTime": {
     "end_time": "2023-03-24T11:32:07.191756Z",
     "start_time": "2023-03-24T11:32:07.179433Z"
    }
   },
   "outputs": [],
   "source": [
    "company =['Allied Signal','Bankers Trust','General Mills','ITT Industries','J.P.Morgan & Co.','Lehman Brothers','Marriott','MCI','Merrill Lynch','Microsoft','Morgan Stanley','Sun Microsystems','Travelers','US Airways','Warner-Lambert']"
   ]
  },
  {
   "cell_type": "code",
   "execution_count": 27,
   "id": "6d4f9b8d",
   "metadata": {
    "ExecuteTime": {
     "end_time": "2023-03-24T11:32:23.633067Z",
     "start_time": "2023-03-24T11:32:23.618821Z"
    }
   },
   "outputs": [
    {
     "data": {
      "text/plain": [
       "['Allied Signal',\n",
       " 'Bankers Trust',\n",
       " 'General Mills',\n",
       " 'ITT Industries',\n",
       " 'J.P.Morgan & Co.',\n",
       " 'Lehman Brothers',\n",
       " 'Marriott',\n",
       " 'MCI',\n",
       " 'Merrill Lynch',\n",
       " 'Microsoft',\n",
       " 'Morgan Stanley',\n",
       " 'Sun Microsystems',\n",
       " 'Travelers',\n",
       " 'US Airways',\n",
       " 'Warner-Lambert']"
      ]
     },
     "execution_count": 27,
     "metadata": {},
     "output_type": "execute_result"
    }
   ],
   "source": [
    "company"
   ]
  },
  {
   "cell_type": "code",
   "execution_count": 24,
   "id": "7628282b",
   "metadata": {
    "ExecuteTime": {
     "end_time": "2023-03-24T11:31:52.113961Z",
     "start_time": "2023-03-24T11:31:52.101215Z"
    }
   },
   "outputs": [],
   "source": [
    "Measure = pd.Series([24.23,25.53,25.41,24.14,29.62,28.25,25.81,24.39,40.26,32.95,91.36,25.99,39.42,26.71,35.00])"
   ]
  },
  {
   "cell_type": "code",
   "execution_count": 25,
   "id": "6c90dffd",
   "metadata": {
    "ExecuteTime": {
     "end_time": "2023-03-24T11:31:55.047908Z",
     "start_time": "2023-03-24T11:31:55.037081Z"
    }
   },
   "outputs": [
    {
     "data": {
      "text/plain": [
       "0     24.23\n",
       "1     25.53\n",
       "2     25.41\n",
       "3     24.14\n",
       "4     29.62\n",
       "5     28.25\n",
       "6     25.81\n",
       "7     24.39\n",
       "8     40.26\n",
       "9     32.95\n",
       "10    91.36\n",
       "11    25.99\n",
       "12    39.42\n",
       "13    26.71\n",
       "14    35.00\n",
       "dtype: float64"
      ]
     },
     "execution_count": 25,
     "metadata": {},
     "output_type": "execute_result"
    }
   ],
   "source": [
    "Measure"
   ]
  },
  {
   "cell_type": "code",
   "execution_count": 30,
   "id": "bb8ba7f0",
   "metadata": {
    "ExecuteTime": {
     "end_time": "2023-03-24T11:34:07.081898Z",
     "start_time": "2023-03-24T11:34:07.068708Z"
    }
   },
   "outputs": [
    {
     "data": {
      "text/plain": [
       "33.27133333333333"
      ]
     },
     "execution_count": 30,
     "metadata": {},
     "output_type": "execute_result"
    }
   ],
   "source": [
    "Measure.mean()"
   ]
  },
  {
   "cell_type": "code",
   "execution_count": 32,
   "id": "d4465fed",
   "metadata": {
    "ExecuteTime": {
     "end_time": "2023-03-24T11:34:42.531637Z",
     "start_time": "2023-03-24T11:34:42.522743Z"
    }
   },
   "outputs": [
    {
     "data": {
      "text/plain": [
       "16.945400921222028"
      ]
     },
     "execution_count": 32,
     "metadata": {},
     "output_type": "execute_result"
    }
   ],
   "source": [
    "Measure.std()"
   ]
  },
  {
   "cell_type": "code",
   "execution_count": 33,
   "id": "abbf4396",
   "metadata": {
    "ExecuteTime": {
     "end_time": "2023-03-24T11:36:09.149195Z",
     "start_time": "2023-03-24T11:36:09.140694Z"
    }
   },
   "outputs": [
    {
     "data": {
      "text/plain": [
       "287.1466123809524"
      ]
     },
     "execution_count": 33,
     "metadata": {},
     "output_type": "execute_result"
    }
   ],
   "source": [
    "Measure.var()"
   ]
  },
  {
   "cell_type": "code",
   "execution_count": 40,
   "id": "e02ffad7",
   "metadata": {
    "ExecuteTime": {
     "end_time": "2023-03-24T11:38:50.344515Z",
     "start_time": "2023-03-24T11:38:50.079876Z"
    }
   },
   "outputs": [
    {
     "data": {
      "image/png": "[encoded data removed]",
      "text/plain": [
       "<Figure size 432x288 with 1 Axes>"
      ]
     },
     "metadata": {
      "needs_background": "light"
     },
     "output_type": "display_data"
    }
   ],
   "source": [
    "sns.histplot(Measure)\n",
    "plt.show()"
   ]
  },
  {
   "cell_type": "code",
   "execution_count": 39,
   "id": "affe6b47",
   "metadata": {
    "ExecuteTime": {
     "end_time": "2023-03-24T11:38:30.453762Z",
     "start_time": "2023-03-24T11:38:30.251946Z"
    }
   },
   "outputs": [
    {
     "data": {
      "image/png": "[encoded data removed]",
      "text/plain": [
       "<Figure size 432x288 with 1 Axes>"
      ]
     },
     "metadata": {
      "needs_background": "light"
     },
     "output_type": "display_data"
    }
   ],
   "source": [
    "import warnings\n",
    "warnings.filterwarnings('ignore')\n",
    "sns.boxplot(Measure)\n",
    "plt.show()"
   ]
  },
  {
   "cell_type": "code",
   "execution_count": null,
   "id": "d63cf9b8",
   "metadata": {},
   "outputs": [],
   "source": []
  }
 ],
 "metadata": {
  "kernelspec": {
   "display_name": "Python 3",
   "language": "python",
   "name": "python3"
  },
  "language_info": {
   "codemirror_mode": {
    "name": "ipython",
    "version": 3
   },
   "file_extension": ".py",
   "mimetype": "text/x-python",
   "name": "python",
   "nbconvert_exporter": "python",
   "pygments_lexer": "ipython3",
   "version": "3.8.8"
  }
 },
 "nbformat": 4,
 "nbformat_minor": 5
}
