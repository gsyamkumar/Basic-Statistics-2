{
 "cells": [
  {
   "cell_type": "markdown",
   "id": "af62c0e4",
   "metadata": {},
   "source": [
    "# Q3"
   ]
  },
  {
   "cell_type": "code",
   "execution_count": 6,
   "id": "50b58b8f",
   "metadata": {
    "ExecuteTime": {
     "end_time": "2023-03-28T17:24:09.849712Z",
     "start_time": "2023-03-28T17:24:09.832759Z"
    }
   },
   "outputs": [
    {
     "data": {
      "text/plain": [
       "0.2112995473337107"
      ]
     },
     "execution_count": 6,
     "metadata": {},
     "output_type": "execute_result"
    }
   ],
   "source": [
    "#Probability of mean trasaction amount will not in b/w 45 to 55\n",
    "import numpy as np\n",
    "from scipy import stats\n",
    "1-(stats.norm.cdf(55,50,4)-stats.norm.cdf(45,50,4))"
   ]
  },
  {
   "cell_type": "markdown",
   "id": "8ce8f0cc",
   "metadata": {},
   "source": [
    "# Q4"
   ]
  },
  {
   "cell_type": "code",
   "execution_count": 3,
   "id": "f4e87f7c",
   "metadata": {
    "ExecuteTime": {
     "end_time": "2023-03-28T17:22:31.833343Z",
     "start_time": "2023-03-28T17:22:31.820379Z"
    }
   },
   "outputs": [],
   "source": [
    "x1 = 45\n",
    "x2 = 40\n",
    "mean = 50"
   ]
  },
  {
   "cell_type": "code",
   "execution_count": 4,
   "id": "edd3999a",
   "metadata": {
    "ExecuteTime": {
     "end_time": "2023-03-28T17:23:20.690935Z",
     "start_time": "2023-03-28T17:23:20.670990Z"
    }
   },
   "outputs": [],
   "source": [
    "data=stats.t.ppf(0.95,249,2)"
   ]
  },
  {
   "cell_type": "code",
   "execution_count": 5,
   "id": "a910b353",
   "metadata": {
    "ExecuteTime": {
     "end_time": "2023-03-28T17:23:24.577763Z",
     "start_time": "2023-03-28T17:23:24.563802Z"
    }
   },
   "outputs": [
    {
     "data": {
      "text/plain": [
       "3.650996151677261"
      ]
     },
     "execution_count": 5,
     "metadata": {},
     "output_type": "execute_result"
    }
   ],
   "source": [
    "data"
   ]
  },
  {
   "cell_type": "code",
   "execution_count": 7,
   "id": "b55efff5",
   "metadata": {
    "ExecuteTime": {
     "end_time": "2023-03-28T17:24:45.759796Z",
     "start_time": "2023-03-28T17:24:45.750822Z"
    }
   },
   "outputs": [],
   "source": [
    "#1.96 = 5/(40/sqrt(n))\n",
    "# z= (sample_mean - population mean)/(standard deviation/sqrt(n))\n",
    "df=((1.96*40)/5)**2 "
   ]
  },
  {
   "cell_type": "code",
   "execution_count": 8,
   "id": "d21c35ea",
   "metadata": {
    "ExecuteTime": {
     "end_time": "2023-03-28T17:24:48.926221Z",
     "start_time": "2023-03-28T17:24:48.914257Z"
    }
   },
   "outputs": [
    {
     "data": {
      "text/plain": [
       "245.86240000000004"
      ]
     },
     "execution_count": 8,
     "metadata": {},
     "output_type": "execute_result"
    }
   ],
   "source": [
    "df"
   ]
  },
  {
   "cell_type": "code",
   "execution_count": 9,
   "id": "24245b7b",
   "metadata": {
    "ExecuteTime": {
     "end_time": "2023-03-28T17:25:10.174183Z",
     "start_time": "2023-03-28T17:25:10.159222Z"
    }
   },
   "outputs": [
    {
     "data": {
      "text/plain": [
       "246.0"
      ]
     },
     "execution_count": 9,
     "metadata": {},
     "output_type": "execute_result"
    }
   ],
   "source": [
    "np.round(df)"
   ]
  },
  {
   "cell_type": "code",
   "execution_count": null,
   "id": "4dbbcf6c",
   "metadata": {},
   "outputs": [],
   "source": []
  }
 ],
 "metadata": {
  "kernelspec": {
   "display_name": "Python 3",
   "language": "python",
   "name": "python3"
  },
  "language_info": {
   "codemirror_mode": {
    "name": "ipython",
    "version": 3
   },
   "file_extension": ".py",
   "mimetype": "text/x-python",
   "name": "python",
   "nbconvert_exporter": "python",
   "pygments_lexer": "ipython3",
   "version": "3.8.8"
  }
 },
 "nbformat": 4,
 "nbformat_minor": 5
}
